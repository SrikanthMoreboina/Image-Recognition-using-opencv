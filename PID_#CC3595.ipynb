{
 "cells": [
  {
   "cell_type": "code",
   "execution_count": 4,
   "id": "40a7e07c",
   "metadata": {},
   "outputs": [],
   "source": [
    "import cv2\n",
    "import numpy as np\n",
    "\n",
    "# Load YOLO\n",
    "yolo_net = cv2.dnn.readNet(r'Downloads/yolov3.weights', r'Downloads/yolov3.cfg')\n",
    "with open(r'Downloads/coco.names', 'r') as f:\n",
    "    classes = f.read().strip().split('\\n')\n",
    "\n",
    "# Load OpenCV's pre-trained face detection model (Haar cascades)\n",
    "face_cascade = cv2.CascadeClassifier(cv2.data.haarcascades + 'haarcascade_frontalface_default.xml')\n",
    "\n"
   ]
  },
  {
   "cell_type": "code",
   "execution_count": 3,
   "id": "27820dc2",
   "metadata": {},
   "outputs": [],
   "source": [
    "# For video file input\n",
    "video_path = r\"C:\\Users\\srika\\Videos\\vlc-record-2024-06-01-22h26m33s-Horse_riding_3.mp4-.mp4\"\n",
    "process_video(video_path)"
   ]
  },
  {
   "cell_type": "code",
   "execution_count": 11,
   "id": "742077b5",
   "metadata": {},
   "outputs": [],
   "source": [
    "# Load image\n",
    "img_path =r\"C:\\Users\\srika\\OneDrive\\Pictures\\tess.jpg\"\n",
    "img = cv2.imread(img_path)\n",
    "height, width = img.shape[:2]"
   ]
  },
  {
   "cell_type": "code",
   "execution_count": 12,
   "id": "2353eee4",
   "metadata": {},
   "outputs": [],
   "source": [
    "# Prepare the image for YOLO\n",
    "blob = cv2.dnn.blobFromImage(img, 1/255.0, (416, 416), swapRB=True, crop=False)\n",
    "yolo_net.setInput(blob)\n",
    "layer_names = yolo_net.getUnconnectedOutLayersNames()\n",
    "layer_outputs = yolo_net.forward(layer_names)"
   ]
  },
  {
   "cell_type": "code",
   "execution_count": 13,
   "id": "9e5209ec",
   "metadata": {},
   "outputs": [],
   "source": [
    "# Process YOLO detections\n",
    "boxes = []\n",
    "confidences = []\n",
    "class_ids = []\n",
    "\n",
    "for output in layer_outputs:\n",
    "    for detection in output:\n",
    "        scores = detection[5:]\n",
    "        class_id = np.argmax(scores)\n",
    "        confidence = scores[class_id]\n",
    "        if confidence > 0.5:\n",
    "            box = detection[0:4] * np.array([width, height, width, height])\n",
    "            (centerX, centerY, w, h) = box.astype('int')\n",
    "            x = int(centerX - w / 2)\n",
    "            y = int(centerY - h / 2)\n",
    "            boxes.append([x, y, int(w), int(h)])\n",
    "            confidences.append(float(confidence))\n",
    "            class_ids.append(class_id)\n",
    "\n",
    "indices = cv2.dnn.NMSBoxes(boxes, confidences, score_threshold=0.5, nms_threshold=0.4)"
   ]
  },
  {
   "cell_type": "code",
   "execution_count": 14,
   "id": "a5d06230",
   "metadata": {},
   "outputs": [],
   "source": [
    "# Draw YOLO bounding boxes\n",
    "for i in indices.flatten():\n",
    "    x, y, w, h = boxes[i]\n",
    "    label = f'{classes[class_ids[i]]}: {confidences[i]:.2f}'\n",
    "    cv2.rectangle(img, (x, y), (x+w, y+h), (0, 255, 0), 2)\n",
    "    cv2.putText(img, label, (x, y - 10), cv2.FONT_HERSHEY_SIMPLEX, 0.5, (0, 255, 0), 2)"
   ]
  },
  {
   "cell_type": "code",
   "execution_count": 15,
   "id": "6f57f046",
   "metadata": {},
   "outputs": [],
   "source": [
    "# Detect faces\n",
    "gray = cv2.cvtColor(img, cv2.COLOR_BGR2GRAY)\n",
    "faces = face_cascade.detectMultiScale(gray, scaleFactor=1.1, minNeighbors=5, minSize=(30, 30), flags=cv2.CASCADE_SCALE_IMAGE)\n",
    "\n",
    "# Draw face bounding boxes\n",
    "for (x, y, w, h) in faces:\n",
    "    cv2.rectangle(img, (x, y), (x+w, y+h), (255, 0, 0), 2)\n",
    "    cv2.putText(img, 'Face', (x, y - 10), cv2.FONT_HERSHEY_SIMPLEX, 0.5, (255, 0, 0), 2)"
   ]
  },
  {
   "cell_type": "code",
   "execution_count": 16,
   "id": "f7b91652",
   "metadata": {},
   "outputs": [],
   "source": [
    "# Display the output image\n",
    "cv2.imshow('Object and Face Detection', img)\n",
    "cv2.waitKey(0)\n",
    "cv2.destroyAllWindows()"
   ]
  },
  {
   "cell_type": "code",
   "execution_count": 39,
   "id": "f261abe8",
   "metadata": {},
   "outputs": [
    {
     "data": {
      "text/plain": [
       "True"
      ]
     },
     "execution_count": 39,
     "metadata": {},
     "output_type": "execute_result"
    }
   ],
   "source": [
    "# Save the output image\n",
    "cv2.imwrite('path_to_save_combined_results.jpg', img)"
   ]
  },
  {
   "cell_type": "code",
   "execution_count": null,
   "id": "ead26f4d",
   "metadata": {},
   "outputs": [],
   "source": []
  }
 ],
 "metadata": {
  "kernelspec": {
   "display_name": "Python 3 (ipykernel)",
   "language": "python",
   "name": "python3"
  },
  "language_info": {
   "codemirror_mode": {
    "name": "ipython",
    "version": 3
   },
   "file_extension": ".py",
   "mimetype": "text/x-python",
   "name": "python",
   "nbconvert_exporter": "python",
   "pygments_lexer": "ipython3",
   "version": "3.9.13"
  }
 },
 "nbformat": 4,
 "nbformat_minor": 5
}
